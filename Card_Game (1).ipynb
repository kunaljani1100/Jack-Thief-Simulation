{
  "nbformat": 4,
  "nbformat_minor": 0,
  "metadata": {
    "colab": {
      "name": "Card_Game.ipynb",
      "version": "0.3.2",
      "provenance": [],
      "collapsed_sections": [],
      "toc_visible": true
    },
    "kernelspec": {
      "display_name": "Python 3",
      "name": "python3"
    }
  },
  "cells": [
    {
      "cell_type": "markdown",
      "metadata": {
        "colab_type": "text",
        "id": "5fCEDCU_qrC0"
      },
      "source": [
        "<p><img alt=\"Colaboratory logo\" height=\"45px\" src=\"https://colab.research.google.com/img/colab_favicon.ico\" align=\"left\" hspace=\"10px\" vspace=\"0px\"></p>\n",
        "\n",
        "<h1>Welcome to Colaboratory!</h1>\n",
        "\n",
        "\n",
        "Colaboratory is a free Jupyter notebook environment that requires no setup and runs entirely in the cloud.\n",
        "\n",
        "With Colaboratory you can write and execute code, save and share your analyses, and access powerful computing resources, all for free from your browser."
      ]
    },
    {
      "cell_type": "code",
      "metadata": {
        "id": "72PCSSFsrKTS",
        "colab_type": "code",
        "outputId": "13843c87-ddb0-424b-8f5d-8dbcf937a4d6",
        "colab": {
          "base_uri": "https://localhost:8080/",
          "height": 35
        }
      },
      "source": [
        "import numpy as np\n",
        "import pandas as pd\n",
        "import matplotlib.pyplot as plt\n",
        "\n",
        "per_player_cards=10\n",
        "no_of_players=8\n",
        "no_of_cards=(per_player_cards*no_of_players)+1\n",
        "\n",
        "card_list=[]\n",
        "card_list.append(11)\n",
        "for i in range(no_of_cards-1):\n",
        "  card_list.append(int((i/4)+1))\n",
        "#print(card_list)\n",
        "\n",
        "count_jacks=0\n",
        "for i in range(len(card_list)):\n",
        "  if(card_list[i]==11):\n",
        "    count_jacks=count_jacks+1\n",
        "\n",
        "if(count_jacks%2==0):\n",
        "  card_list.pop(0)\n",
        "  \n",
        "#print(card_list)\n",
        "\n",
        "starter=np.random.uniform(0,no_of_players)\n",
        "st=int(starter)\n",
        "\n",
        "player=[]\n",
        "for i in range(no_of_players):\n",
        "  card_of_player=[]\n",
        "  if(i==0):\n",
        "    for j in range(per_player_cards+1):\n",
        "      rndnum=len(card_list)*np.random.uniform(0,1)\n",
        "      rdnum=int(rndnum)\n",
        "      card_of_player.append(card_list[rdnum])\n",
        "      card_list.pop(rdnum)\n",
        "  else:\n",
        "    for j in range(per_player_cards):\n",
        "      rndnum=np.random.uniform(0,len(card_list))\n",
        "      rdnum=int(rndnum)\n",
        "      card_of_player.append(card_list[rdnum])\n",
        "      card_list.pop(rdnum)\n",
        "  player.append(card_of_player)\n",
        "  \n",
        "#print(player)\n",
        "\n",
        "for i in range(no_of_players):\n",
        "  cards_paired=0\n",
        "  for j in range(len(player[i])):\n",
        "    for k in range(j):\n",
        "      if(player[i][j]==player[i][k]):\n",
        "        player[i][j]=0\n",
        "        player[i][k]=0\n",
        "        cards_paired=cards_paired+2\n",
        "  cards_left=len(player[i])\n",
        "  for j in range(cards_paired):\n",
        "    for k in range(cards_left):\n",
        "      if(player[i][k]==0):\n",
        "        player[i].pop(k)\n",
        "        break\n",
        "    cards_left=cards_left-1\n",
        "  \n",
        "#print(player)\n",
        "   \n",
        "no_of_plays=0\n",
        "while(True):\n",
        "  for i in range(no_of_players):\n",
        "      marked_positions=[]\n",
        "      for j in range(len(player[i])):\n",
        "        for k in range(j):\n",
        "          if(player[i][j]==player[i][k]):\n",
        "            break\n",
        "      if(i==no_of_players-1):\n",
        "        rndnum=len(player[i])*np.random.uniform(0,1)\n",
        "        rdnum=int(rndnum)\n",
        "        player[0].append(player[i][rdnum])\n",
        "        player[i].pop(rdnum)\n",
        "      else:\n",
        "        rndnum=len(player[i])*np.random.uniform(0,1)\n",
        "        rdnum=int(rndnum)\n",
        "        player[i+1].append(player[i][rdnum])\n",
        "        player[i].pop(rdnum)\n",
        "      cards_paired=0\n",
        "      \n",
        "      if(i==no_of_players-1):\n",
        "        nm=0\n",
        "        passing=False\n",
        "        while(True):\n",
        "          if(len(player[nm])==0):\n",
        "            if(nm==no_of_players-1):\n",
        "              nm=0\n",
        "            else:\n",
        "              nm=nm+1\n",
        "          else:\n",
        "            passing=True\n",
        "            break\n",
        "        for j in range(len(player[nm])):\n",
        "          for k in range(j):\n",
        "            if(player[nm][j]==player[nm][k]):\n",
        "              player[nm][j]=0\n",
        "              player[nm][k]=0\n",
        "              cards_paired=cards_paired+2\n",
        "        cards_left=len(player[nm])\n",
        "        for j in range(cards_paired):\n",
        "          for k in range(cards_left):\n",
        "            if(player[nm][k]==0):\n",
        "              player[nm].pop(k)\n",
        "              break\n",
        "          cards_left=cards_left-1\n",
        "      \n",
        "      else:\n",
        "        nm=i+1\n",
        "        passing=False\n",
        "        while(True):\n",
        "          if(len(player[nm])==0):\n",
        "            if(nm==no_of_players-1):\n",
        "              nm=0\n",
        "            else:\n",
        "              nm=nm+1\n",
        "          else:\n",
        "            passing=True\n",
        "            break\n",
        "        for j in range(len(player[nm])):\n",
        "          for k in range(j):\n",
        "            if(player[nm][j]==player[nm][k]):\n",
        "              player[nm][j]=0\n",
        "              player[nm][k]=0\n",
        "              cards_paired=cards_paired+2\n",
        "        cards_left=len(player[nm])\n",
        "        for j in range(cards_paired):\n",
        "          for k in range(cards_left):\n",
        "            if(player[nm][k]==0):\n",
        "              player[nm].pop(k)\n",
        "              break\n",
        "          cards_left=cards_left-1    \n",
        "  \n",
        "  no_of_plays=no_of_plays+1\n",
        "#  print(player)\n",
        "  iscontinue=False\n",
        "  \n",
        "  for i in range(no_of_players):\n",
        "    if(len(player[i])>1):\n",
        "      iscontinue=True\n",
        "  if(iscontinue==False):\n",
        "    break\n",
        "  \n",
        "  \n",
        "print(no_of_plays)\n",
        "#print(player)\n",
        "      \n",
        "     \n",
        "  "
      ],
      "execution_count": 0,
      "outputs": [
        {
          "output_type": "stream",
          "text": [
            "28\n"
          ],
          "name": "stdout"
        }
      ]
    },
    {
      "cell_type": "code",
      "metadata": {
        "id": "kRiVoK_XgsYC",
        "colab_type": "code",
        "outputId": "9a9d3576-ed5f-46dc-ce46-f61f1201eda9",
        "colab": {
          "base_uri": "https://localhost:8080/",
          "height": 305
        }
      },
      "source": [
        "import numpy as np\n",
        "import pandas as pd\n",
        "import matplotlib.pyplot as plt\n",
        "N=100\n",
        "duration=[]\n",
        "for a in range(5,20):\n",
        "  avg_duration=0\n",
        "  for b in range(N):\n",
        "\n",
        "    per_player_cards=10\n",
        "    no_of_players=a\n",
        "    no_of_cards=(per_player_cards*no_of_players)+1\n",
        "\n",
        "    card_list=[]\n",
        "    card_list.append(11)\n",
        "    for i in range(no_of_cards-1):\n",
        "      card_list.append(int((i/4)+1))\n",
        "    #print(card_list)\n",
        "\n",
        "    count_jacks=0\n",
        "    for i in range(len(card_list)):\n",
        "      if(card_list[i]==11):\n",
        "        count_jacks=count_jacks+1\n",
        "\n",
        "    if(count_jacks%2==0):\n",
        "      card_list.pop(0)\n",
        "\n",
        "    #print(card_list)\n",
        "\n",
        "    starter=np.random.uniform(0,no_of_players)\n",
        "    st=int(starter)\n",
        "\n",
        "    player=[]\n",
        "    for i in range(no_of_players):\n",
        "      card_of_player=[]\n",
        "      if(i==0):\n",
        "        for j in range(per_player_cards+1):\n",
        "          rndnum=len(card_list)*np.random.uniform(0,1)\n",
        "          rdnum=int(rndnum)\n",
        "          card_of_player.append(card_list[rdnum])\n",
        "          card_list.pop(rdnum)\n",
        "      else:\n",
        "        for j in range(per_player_cards):\n",
        "          rndnum=np.random.uniform(0,len(card_list))\n",
        "          rdnum=int(rndnum)\n",
        "          card_of_player.append(card_list[rdnum])\n",
        "          card_list.pop(rdnum)\n",
        "      player.append(card_of_player)\n",
        "\n",
        "    #print(player)\n",
        "\n",
        "    for i in range(no_of_players):\n",
        "      cards_paired=0\n",
        "      for j in range(len(player[i])):\n",
        "        for k in range(j):\n",
        "          if(player[i][j]==player[i][k]):\n",
        "            player[i][j]=0\n",
        "            player[i][k]=0\n",
        "            cards_paired=cards_paired+2\n",
        "      cards_left=len(player[i])\n",
        "      for j in range(cards_paired):\n",
        "        for k in range(cards_left):\n",
        "          if(player[i][k]==0):\n",
        "            player[i].pop(k)\n",
        "            break\n",
        "        cards_left=cards_left-1\n",
        "\n",
        "    #print(player)\n",
        "\n",
        "    no_of_plays=0\n",
        "    while(True):\n",
        "      for i in range(no_of_players):\n",
        "          marked_positions=[]\n",
        "          for j in range(len(player[i])):\n",
        "            for k in range(j):\n",
        "              if(player[i][j]==player[i][k]):\n",
        "                break\n",
        "          if(i==no_of_players-1):\n",
        "            rndnum=len(player[i])*np.random.uniform(0,1)\n",
        "            rdnum=int(rndnum)\n",
        "            player[0].append(player[i][rdnum])\n",
        "            player[i].pop(rdnum)\n",
        "          else:\n",
        "            rndnum=len(player[i])*np.random.uniform(0,1)\n",
        "            rdnum=int(rndnum)\n",
        "            player[i+1].append(player[i][rdnum])\n",
        "            player[i].pop(rdnum)\n",
        "          cards_paired=0\n",
        "\n",
        "          if(i==no_of_players-1):\n",
        "            nm=0\n",
        "            passing=False\n",
        "            while(True):\n",
        "              if(len(player[nm])==0):\n",
        "                if(nm==no_of_players-1):\n",
        "                  nm=0\n",
        "                else:\n",
        "                  nm=nm+1\n",
        "              else:\n",
        "                passing=True\n",
        "                break\n",
        "            for j in range(len(player[nm])):\n",
        "              for k in range(j):\n",
        "                if(player[nm][j]==player[nm][k]):\n",
        "                  player[nm][j]=0\n",
        "                  player[nm][k]=0\n",
        "                  cards_paired=cards_paired+2\n",
        "            cards_left=len(player[nm])\n",
        "            for j in range(cards_paired):\n",
        "              for k in range(cards_left):\n",
        "                if(player[nm][k]==0):\n",
        "                  player[nm].pop(k)\n",
        "                  break\n",
        "              cards_left=cards_left-1\n",
        "\n",
        "          else:\n",
        "            nm=i+1\n",
        "            passing=False\n",
        "            while(True):\n",
        "              if(len(player[nm])==0):\n",
        "                if(nm==no_of_players-1):\n",
        "                  nm=0\n",
        "                else:\n",
        "                  nm=nm+1\n",
        "              else:\n",
        "                passing=True\n",
        "                break\n",
        "            for j in range(len(player[nm])):\n",
        "              for k in range(j):\n",
        "                if(player[nm][j]==player[nm][k]):\n",
        "                  player[nm][j]=0\n",
        "                  player[nm][k]=0\n",
        "                  cards_paired=cards_paired+2\n",
        "            cards_left=len(player[nm])\n",
        "            for j in range(cards_paired):\n",
        "              for k in range(cards_left):\n",
        "                if(player[nm][k]==0):\n",
        "                  player[nm].pop(k)\n",
        "                  break\n",
        "              cards_left=cards_left-1    \n",
        "\n",
        "      no_of_plays=no_of_plays+1\n",
        "  #    print(player)\n",
        "      iscontinue=False\n",
        "\n",
        "      for i in range(no_of_players):\n",
        "        if(len(player[i])>1):\n",
        "          iscontinue=True\n",
        "      if(iscontinue==False):\n",
        "        break\n",
        "    avg_duration=avg_duration+no_of_plays\n",
        "  avg_duration=avg_duration/N\n",
        "  duration.append(avg_duration)\n",
        "print(duration)\n",
        "x=range(5,20)\n",
        "plt.plot(x,duration)\n"
      ],
      "execution_count": 0,
      "outputs": [
        {
          "output_type": "stream",
          "text": [
            "[9.23, 12.84, 17.07, 21.53, 26.73, 31.76, 39.02, 43.83, 52.26, 60.24, 66.74, 75.7, 83.33, 93.87, 105.77]\n"
          ],
          "name": "stdout"
        },
        {
          "output_type": "execute_result",
          "data": {
            "text/plain": [
              "[<matplotlib.lines.Line2D at 0x7f946ef3ff60>]"
            ]
          },
          "metadata": {
            "tags": []
          },
          "execution_count": 65
        },
        {
          "output_type": "display_data",
          "data": {
            "image/png": "[encoded data removed]",
            "text/plain": [
              "<Figure size 432x288 with 1 Axes>"
            ]
          },
          "metadata": {
            "tags": []
          }
        }
      ]
    },
    {
      "cell_type": "code",
      "metadata": {
        "id": "aJLqHORwo6oy",
        "colab_type": "code",
        "outputId": "8e14ba3f-4fd2-41aa-c7a1-55eafe94251c",
        "colab": {
          "base_uri": "https://localhost:8080/",
          "height": 305
        }
      },
      "source": [
        "import numpy as np\n",
        "import pandas as pd\n",
        "import matplotlib.pyplot as plt\n",
        "N=100\n",
        "duration=[]\n",
        "for a in range(8,30,2):\n",
        "  avg_duration=0\n",
        "  for b in range(N):\n",
        "\n",
        "    per_player_cards=a\n",
        "    no_of_players=5\n",
        "    no_of_cards=(per_player_cards*no_of_players)+1\n",
        "\n",
        "    card_list=[]\n",
        "    card_list.append(11)\n",
        "    for i in range(no_of_cards-1):\n",
        "      card_list.append(int((i/4)+1))\n",
        "    #print(card_list)\n",
        "\n",
        "    count_jacks=0\n",
        "    for i in range(len(card_list)):\n",
        "      if(card_list[i]==11):\n",
        "        count_jacks=count_jacks+1\n",
        "\n",
        "    if(count_jacks%2==0):\n",
        "      card_list.pop(0)\n",
        "\n",
        "    #print(card_list)\n",
        "\n",
        "    starter=np.random.uniform(0,no_of_players)\n",
        "    st=int(starter)\n",
        "\n",
        "    player=[]\n",
        "    for i in range(no_of_players):\n",
        "      card_of_player=[]\n",
        "      if(i==0):\n",
        "        for j in range(per_player_cards+1):\n",
        "          rndnum=len(card_list)*np.random.uniform(0,1)\n",
        "          rdnum=int(rndnum)\n",
        "          card_of_player.append(card_list[rdnum])\n",
        "          card_list.pop(rdnum)\n",
        "      else:\n",
        "        for j in range(per_player_cards):\n",
        "          rndnum=np.random.uniform(0,len(card_list))\n",
        "          rdnum=int(rndnum)\n",
        "          card_of_player.append(card_list[rdnum])\n",
        "          card_list.pop(rdnum)\n",
        "      player.append(card_of_player)\n",
        "\n",
        "    #print(player)\n",
        "\n",
        "    for i in range(no_of_players):\n",
        "      cards_paired=0\n",
        "      for j in range(len(player[i])):\n",
        "        for k in range(j):\n",
        "          if(player[i][j]==player[i][k]):\n",
        "            player[i][j]=0\n",
        "            player[i][k]=0\n",
        "            cards_paired=cards_paired+2\n",
        "      cards_left=len(player[i])\n",
        "      for j in range(cards_paired):\n",
        "        for k in range(cards_left):\n",
        "          if(player[i][k]==0):\n",
        "            player[i].pop(k)\n",
        "            break\n",
        "        cards_left=cards_left-1\n",
        "\n",
        "    #print(player)\n",
        "\n",
        "    no_of_plays=0\n",
        "    while(True):\n",
        "      for i in range(no_of_players):\n",
        "          marked_positions=[]\n",
        "          for j in range(len(player[i])):\n",
        "            for k in range(j):\n",
        "              if(player[i][j]==player[i][k]):\n",
        "                break\n",
        "          if(i==no_of_players-1):\n",
        "            rndnum=len(player[i])*np.random.uniform(0,1)\n",
        "            rdnum=int(rndnum)\n",
        "            player[0].append(player[i][rdnum])\n",
        "            player[i].pop(rdnum)\n",
        "          else:\n",
        "            rndnum=len(player[i])*np.random.uniform(0,1)\n",
        "            rdnum=int(rndnum)\n",
        "            player[i+1].append(player[i][rdnum])\n",
        "            player[i].pop(rdnum)\n",
        "          cards_paired=0\n",
        "\n",
        "          if(i==no_of_players-1):\n",
        "            nm=0\n",
        "            passing=False\n",
        "            while(True):\n",
        "              if(len(player[nm])==0):\n",
        "                if(nm==no_of_players-1):\n",
        "                  nm=0\n",
        "                else:\n",
        "                  nm=nm+1\n",
        "              else:\n",
        "                passing=True\n",
        "                break\n",
        "            for j in range(len(player[nm])):\n",
        "              for k in range(j):\n",
        "                if(player[nm][j]==player[nm][k]):\n",
        "                  player[nm][j]=0\n",
        "                  player[nm][k]=0\n",
        "                  cards_paired=cards_paired+2\n",
        "            cards_left=len(player[nm])\n",
        "            for j in range(cards_paired):\n",
        "              for k in range(cards_left):\n",
        "                if(player[nm][k]==0):\n",
        "                  player[nm].pop(k)\n",
        "                  break\n",
        "              cards_left=cards_left-1\n",
        "\n",
        "          else:\n",
        "            nm=i+1\n",
        "            passing=False\n",
        "            while(True):\n",
        "              if(len(player[nm])==0):\n",
        "                if(nm==no_of_players-1):\n",
        "                  nm=0\n",
        "                else:\n",
        "                  nm=nm+1\n",
        "              else:\n",
        "                passing=True\n",
        "                break\n",
        "            for j in range(len(player[nm])):\n",
        "              for k in range(j):\n",
        "                if(player[nm][j]==player[nm][k]):\n",
        "                  player[nm][j]=0\n",
        "                  player[nm][k]=0\n",
        "                  cards_paired=cards_paired+2\n",
        "            cards_left=len(player[nm])\n",
        "            for j in range(cards_paired):\n",
        "              for k in range(cards_left):\n",
        "                if(player[nm][k]==0):\n",
        "                  player[nm].pop(k)\n",
        "                  break\n",
        "              cards_left=cards_left-1    \n",
        "\n",
        "      no_of_plays=no_of_plays+1\n",
        "  #    print(player)\n",
        "      iscontinue=False\n",
        "\n",
        "      for i in range(no_of_players):\n",
        "        if(len(player[i])>1):\n",
        "          iscontinue=True\n",
        "      if(iscontinue==False):\n",
        "        break\n",
        "    avg_duration=avg_duration+no_of_plays\n",
        "  avg_duration=avg_duration/N\n",
        "  duration.append(avg_duration)\n",
        "print(duration)\n",
        "x=range(8,30,2)\n",
        "plt.plot(x,duration)"
      ],
      "execution_count": 0,
      "outputs": [
        {
          "output_type": "stream",
          "text": [
            "[7.53, 9.5, 11.31, 13.79, 15.63, 18.73, 20.51, 23.31, 24.11, 26.19, 29.49]\n"
          ],
          "name": "stdout"
        },
        {
          "output_type": "execute_result",
          "data": {
            "text/plain": [
              "[<matplotlib.lines.Line2D at 0x7f946ee65940>]"
            ]
          },
          "metadata": {
            "tags": []
          },
          "execution_count": 68
        },
        {
          "output_type": "display_data",
          "data": {
            "image/png": "[encoded data removed]",
            "text/plain": [
              "<Figure size 432x288 with 1 Axes>"
            ]
          },
          "metadata": {
            "tags": []
          }
        }
      ]
    },
    {
      "cell_type": "code",
      "metadata": {
        "colab_type": "code",
        "id": "xitplqMNk_Hc",
        "outputId": "ed4f60d2-878d-4056-c438-352dac39a112",
        "colab": {
          "height": 420
        }
      },
      "source": [
        "#@title Introducing Colaboratory { display-mode: \"form\" }\n",
        "#@markdown This 3-minute video gives an overview of the key features of Colaboratory:\n",
        "from IPython.display import YouTubeVideo\n",
        "YouTubeVideo('inN8seMm7UI', width=600, height=400)"
      ],
      "execution_count": 0,
      "outputs": [
        {
          "output_type": "execute_result",
          "data": {
            "text/html": [
              "\n",
              "        <iframe\n",
              "            width=\"600\"\n",
              "            height=\"400\"\n",
              "            src=\"https://www.youtube.com/embed/inN8seMm7UI\"\n",
              "            frameborder=\"0\"\n",
              "            allowfullscreen\n",
              "        ></iframe>\n",
              "        "
            ],
            "text/plain": [
              "<IPython.lib.display.YouTubeVideo at 0x7f956e9dda50>"
            ]
          },
          "metadata": {
            "tags": []
          },
          "execution_count": 0
        }
      ]
    },
    {
      "cell_type": "markdown",
      "metadata": {
        "colab_type": "text",
        "id": "GJBs_flRovLc"
      },
      "source": [
        "## Getting Started\n",
        "\n",
        "The document you are reading is a  [Jupyter notebook](https://jupyter.org/), hosted in Colaboratory. It is not a static page, but an interactive environment that lets you write and execute code in Python and other languages.\n",
        "\n",
        "For example, here is a **code cell** with a short Python script that computes a value, stores it in a variable, and prints the result:"
      ]
    },
    {
      "cell_type": "code",
      "metadata": {
        "colab_type": "code",
        "id": "gJr_9dXGpJ05",
        "outputId": "5626194c-e802-4293-942d-2908885c3c1f",
        "colab": {
          "height": 35
        }
      },
      "source": [
        "seconds_in_a_day = 24 * 60 * 60\n",
        "seconds_in_a_day"
      ],
      "execution_count": 0,
      "outputs": [
        {
          "output_type": "execute_result",
          "data": {
            "text/plain": [
              "86400"
            ]
          },
          "metadata": {
            "tags": []
          },
          "execution_count": 0
        }
      ]
    },
    {
      "cell_type": "markdown",
      "metadata": {
        "colab_type": "text",
        "id": "2fhs6GZ4qFMx"
      },
      "source": [
        "To execute the code in the above cell, select it with a click and then either press the play button to the left of the code, or use the keyboard shortcut \"Command/Ctrl+Enter\".\n",
        "\n",
        "All cells modify the same global state, so variables that you define by executing a cell can be used in other cells:"
      ]
    },
    {
      "cell_type": "code",
      "metadata": {
        "colab_type": "code",
        "id": "-gE-Ez1qtyIA",
        "outputId": "8d2e4259-4682-4e19-b683-7b9087f28820",
        "colab": {
          "height": 35
        }
      },
      "source": [
        "seconds_in_a_week = 7 * seconds_in_a_day\n",
        "seconds_in_a_week"
      ],
      "execution_count": 0,
      "outputs": [
        {
          "output_type": "execute_result",
          "data": {
            "text/plain": [
              "604800"
            ]
          },
          "metadata": {
            "tags": []
          },
          "execution_count": 0
        }
      ]
    },
    {
      "cell_type": "markdown",
      "metadata": {
        "colab_type": "text",
        "id": "lSrWNr3MuFUS"
      },
      "source": [
        "For more information about working with Colaboratory notebooks, see [Overview of Colaboratory](/notebooks/basic_features_overview.ipynb).\n"
      ]
    },
    {
      "cell_type": "markdown",
      "metadata": {
        "colab_type": "text",
        "id": "-Rh3-Vt9Nev9"
      },
      "source": [
        "## More Resources\n",
        "\n",
        "Learn how to make the most of Python, Jupyter, Colaboratory, and related tools with these resources:\n",
        "\n",
        "### Working with Notebooks in Colaboratory\n",
        "- [Overview of Colaboratory](/notebooks/basic_features_overview.ipynb)\n",
        "- [Guide to Markdown](/notebooks/markdown_guide.ipynb)\n",
        "- [Importing libraries and installing dependencies](/notebooks/snippets/importing_libraries.ipynb)\n",
        "- [Saving and loading notebooks in GitHub](https://colab.research.google.com/github/googlecolab/colabtools/blob/master/notebooks/colab-github-demo.ipynb)\n",
        "- [Interactive forms](/notebooks/forms.ipynb)\n",
        "- [Interactive widgets](/notebooks/widgets.ipynb)\n",
        "\n",
        "### Working with Data\n",
        "- [Loading data: Drive, Sheets, and Google Cloud Storage](/notebooks/io.ipynb) \n",
        "- [Charts: visualizing data](/notebooks/charts.ipynb)\n",
        "- [Getting started with BigQuery](/notebooks/bigquery.ipynb)\n",
        "\n",
        "### Machine Learning Crash Course\n",
        "These are a few of the notebooks from Google's online Machine Learning course. See the [full course website](https://developers.google.com/machine-learning/crash-course/) for more.\n",
        "- [Intro to Pandas](/notebooks/mlcc/intro_to_pandas.ipynb)\n",
        "- [Tensorflow concepts](/notebooks/mlcc/tensorflow_programming_concepts.ipynb)\n",
        "- [First steps with TensorFlow](/notebooks/mlcc/first_steps_with_tensor_flow.ipynb)\n",
        "- [Intro to neural nets](/notebooks/mlcc/intro_to_neural_nets.ipynb)\n",
        "- [Intro to sparse data and embeddings](/notebooks/mlcc/intro_to_sparse_data_and_embeddings.ipynb)\n",
        "\n",
        "### Using Accelerated Hardware\n",
        "- [TensorFlow with GPUs](/notebooks/gpu.ipynb)\n",
        "- [TensorFlow with TPUs](/notebooks/tpu.ipynb)"
      ]
    },
    {
      "cell_type": "markdown",
      "metadata": {
        "colab_type": "text",
        "id": "P-H6Lw1vyNNd"
      },
      "source": [
        "## Machine Learning Examples: Seedbank\n",
        "\n",
        "To see end-to-end examples of the interactive machine learning analyses that Colaboratory makes possible, check out the [Seedbank](https://research.google.com/seedbank/) project.\n",
        "\n",
        "A few featured examples:\n",
        "\n",
        "- [Neural Style Transfer](https://research.google.com/seedbank/seed/neural_style_transfer_with_tfkeras): Use deep learning to transfer style between images.\n",
        "- [EZ NSynth](https://research.google.com/seedbank/seed/ez_nsynth): Synthesize audio with WaveNet auto-encoders.\n",
        "- [Fashion MNIST with Keras and TPUs](https://research.google.com/seedbank/seed/fashion_mnist_with_keras_and_tpus): Classify fashion-related images with deep learning.\n",
        "- [DeepDream](https://research.google.com/seedbank/seed/deepdream): Produce DeepDream images from your own photos.\n",
        "- [Convolutional VAE](https://research.google.com/seedbank/seed/convolutional_vae): Create a generative model of handwritten digits."
      ]
    }
  ]
}